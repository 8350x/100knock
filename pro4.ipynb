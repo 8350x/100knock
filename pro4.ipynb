{
 "cells": [
  {
   "cell_type": "code",
   "execution_count": 24,
   "metadata": {},
   "outputs": [
    {
     "name": "stdout",
     "output_type": "stream",
     "text": [
      "HHeLiBeBCNOFNeNaMiAlSiPSClArKCa\n",
      "{'H': 1, 'He': 2, 'Li': 3, 'Be': 4, 'B': 5, 'C': 6, 'N': 7, 'O': 8, 'F': 9, 'Ne': 10, 'Na': 11, 'Mi': 12, 'Al': 13, 'Si': 14, 'P': 15, 'S': 16, 'Cl': 17, 'Ar': 18, 'K': 19, 'Ca': 20}\n"
     ]
    }
   ],
   "source": [
    "import re\n",
    "\n",
    "def pro4():\n",
    "    src=\"Hi He Lied Because Boron Could Not Oxidize Fluorine. New Nations Might Also Sign Peace Security Clause. Arthur King Can.\"\n",
    "    src_list=re.split('[ ,.]',src)\n",
    "    \n",
    "    src2_list=[]\n",
    "    tmp=\"\"\n",
    "    dst=\"\"\n",
    "    pos_d={}\n",
    "    \n",
    "    for i in src_list:\n",
    "        if len(i)!=0:\n",
    "            src2_list.append(i)\n",
    "    \n",
    "    for i in range(len(src2_list)):\n",
    "        if i== 0 or i== 4 or i==5 or i==6 or i==7 or i==8 or i==14 or i==15 or i==18:\n",
    "            tmp=src2_list[i]\n",
    "            pos_d[tmp[0:1]]=i+1\n",
    "            dst+=tmp[0:1]\n",
    "        \n",
    "        else:\n",
    "            tmp=src2_list[i]\n",
    "            pos_d[tmp[0:2]]=i+1\n",
    "            dst+=tmp[0:2]\n",
    "    \n",
    "    print(dst)\n",
    "    print(pos_d)\n",
    "        \n",
    "\n",
    "pro4()"
   ]
  }
 ],
 "metadata": {
  "kernelspec": {
   "display_name": "Python 3",
   "language": "python",
   "name": "python3"
  },
  "language_info": {
   "codemirror_mode": {
    "name": "ipython",
    "version": 3
   },
   "file_extension": ".py",
   "mimetype": "text/x-python",
   "name": "python",
   "nbconvert_exporter": "python",
   "pygments_lexer": "ipython3",
   "version": "3.7.3"
  }
 },
 "nbformat": 4,
 "nbformat_minor": 2
}
