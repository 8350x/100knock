{
 "cells": [
  {
   "cell_type": "code",
   "execution_count": 41,
   "metadata": {},
   "outputs": [
    {
     "name": "stdout",
     "output_type": "stream",
     "text": [
      "['I,am', 'am,an', 'an,NLPer']\n",
      "['I,a', 'a,m', 'm,a', 'a,n', 'n,N', 'N,L', 'L,P', 'P,e', 'e,r']\n"
     ]
    }
   ],
   "source": [
    "import re\n",
    "\n",
    "def w_bigram(src):\n",
    "    \n",
    "    src_list=re.split('[ ,.]',src)\n",
    "    src2_list=[]\n",
    "    dst_list=[]\n",
    "    \n",
    "    for i in src_list:\n",
    "        if len(i)!=0:\n",
    "            src2_list.append(i)\n",
    "    \n",
    "    for i in range(len(src2_list)-1):\n",
    "        dst_list.append(src2_list[i]+\",\"+src2_list[i+1])\n",
    "            \n",
    "    \n",
    "    print(dst_list)\n",
    "\n",
    "def c_bigram(src):\n",
    "    \n",
    "    src=src.replace(\" \",\"\")\n",
    "    src_list=[]\n",
    "    dst_list=[]\n",
    "    \n",
    "    for i in src:\n",
    "        \n",
    "        if i != \",\" and i != \".\" :\n",
    "            src_list.append(i)\n",
    "    \n",
    "    for i in range(len(src_list)-1):\n",
    "        dst_list.append(src_list[i]+\",\"+src_list[i+1])\n",
    "        \n",
    "    print(dst_list)\n",
    "\n",
    "w_bigram(\"I am an NLPer\")\n",
    "\n",
    "c_bigram(\"I am an NLPer\")"
   ]
  }
 ],
 "metadata": {
  "kernelspec": {
   "display_name": "Python 3",
   "language": "python",
   "name": "python3"
  },
  "language_info": {
   "codemirror_mode": {
    "name": "ipython",
    "version": 3
   },
   "file_extension": ".py",
   "mimetype": "text/x-python",
   "name": "python",
   "nbconvert_exporter": "python",
   "pygments_lexer": "ipython3",
   "version": "3.7.1"
  }
 },
 "nbformat": 4,
 "nbformat_minor": 2
}
