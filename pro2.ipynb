{
 "cells": [
  {
   "cell_type": "code",
   "execution_count": 4,
   "metadata": {},
   "outputs": [
    {
     "name": "stdout",
     "output_type": "stream",
     "text": [
      "パタトクカシーー\n"
     ]
    }
   ],
   "source": [
    "def pro2():\n",
    "    \n",
    "    src0=\"パトカー\"\n",
    "    src1=\"タクシー\"\n",
    "    dst=''\n",
    "    \n",
    "    list_src0=list(src0)\n",
    "    list_src1=list(src1)\n",
    "    \n",
    "    for i in range(0,4,1):\n",
    "        \n",
    "        dst=dst+list_src0[i]+list_src1[i]\n",
    "    \n",
    "    print(dst)\n",
    "\n",
    "pro2()    "
   ]
  }
 ],
 "metadata": {
  "kernelspec": {
   "display_name": "Python 3",
   "language": "python",
   "name": "python3"
  },
  "language_info": {
   "codemirror_mode": {
    "name": "ipython",
    "version": 3
   },
   "file_extension": ".py",
   "mimetype": "text/x-python",
   "name": "python",
   "nbconvert_exporter": "python",
   "pygments_lexer": "ipython3",
   "version": "3.7.3"
  }
 },
 "nbformat": 4,
 "nbformat_minor": 2
}
