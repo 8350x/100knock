{
 "cells": [
  {
   "cell_type": "code",
   "execution_count": 19,
   "metadata": {},
   "outputs": [
    {
     "name": "stdout",
     "output_type": "stream",
     "text": [
      "{'p,h', 'i,s', 'a,d', 'g,r', 'a,p', 'a,g', 'p,a', 'd,i', 'r,a', 's,e', 'a,r'}\n",
      "{'a,p', 'p,a', 'r,a', 'a,r'}\n",
      "{'i,s', 'a,d', 's,e', 'd,i'}\n",
      "{'p,h', 'g,r', 'a,g'}\n",
      "No\n"
     ]
    }
   ],
   "source": [
    "def c_bigram(src):\n",
    "    \n",
    "    src=src.replace(\" \",\"\")\n",
    "    src_list=[]\n",
    "    dst_list=[]\n",
    "    \n",
    "    for i in src:\n",
    "        \n",
    "        if i != \",\" and i != \".\" :\n",
    "            src_list.append(i)\n",
    "    \n",
    "    for i in range(len(src_list)-1):\n",
    "        dst_list.append(src_list[i]+\",\"+src_list[i+1])\n",
    "        \n",
    "    return dst_list\n",
    "\n",
    "def pro6_1(src0,src1):\n",
    "    \n",
    "    x=set(c_bigram(src0))\n",
    "    y=set(c_bigram(src1))\n",
    "    \n",
    "    union=x | y\n",
    "    intersection=x & y\n",
    "    \n",
    "    x_dif_set= x-y\n",
    "    y_dif_set=y-x\n",
    "    \n",
    "    print(union)\n",
    "    print(intersection)\n",
    "    print(x_dif_set)\n",
    "    print(y_dif_set)\n",
    "    \n",
    "def pro6_2(src,word):\n",
    "    \n",
    "    src_set=set(c_bigram(src))\n",
    "    \n",
    "    word_list=c_bigram(word)\n",
    "    word_set=set(word_list)\n",
    "    \n",
    "    if word_set & src_set:\n",
    "        print(\"Yes\")\n",
    "    \n",
    "    else:\n",
    "        print(\"No\")\n",
    "        \n",
    "    \n",
    "pro6_1(\"paraparaparadise\",\"paragraph\")\n",
    "\n",
    "pro6_2(\"paragraph\",\"se\")"
   ]
  }
 ],
 "metadata": {
  "kernelspec": {
   "display_name": "Python 3",
   "language": "python",
   "name": "python3"
  },
  "language_info": {
   "codemirror_mode": {
    "name": "ipython",
    "version": 3
   },
   "file_extension": ".py",
   "mimetype": "text/x-python",
   "name": "python",
   "nbconvert_exporter": "python",
   "pygments_lexer": "ipython3",
   "version": "3.7.1"
  }
 },
 "nbformat": 4,
 "nbformat_minor": 2
}
