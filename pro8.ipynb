{
 "cells": [
  {
   "cell_type": "code",
   "execution_count": 28,
   "metadata": {},
   "outputs": [
    {
     "name": "stdout",
     "output_type": "stream",
     "text": [
      "zarIUK9043\n"
     ]
    }
   ],
   "source": [
    "def cipher(src):\n",
    "    \n",
    "    src_list=[]\n",
    "    dst_list=[]\n",
    "    mapped_list=[]\n",
    "    dst=\"\"\n",
    "    \n",
    "    for i in src:\n",
    "        src_list.append(i)\n",
    "        \n",
    "    for i in src_list:\n",
    "        \n",
    "        if i.islower():\n",
    "            dst_list.append(chr(219-ord(i)))\n",
    "        \n",
    "        else:\n",
    "            dst_list.append(i)\n",
    "    \n",
    "    mapped_list=map(str,dst_list)\n",
    "    dst=\"\".join(mapped_list)\n",
    "    \n",
    "    \n",
    "    print(dst)\n",
    "    \n",
    "        \n",
    "\n",
    "cipher(\"aziIUK9043\")\n",
    "    "
   ]
  }
 ],
 "metadata": {
  "kernelspec": {
   "display_name": "Python 3",
   "language": "python",
   "name": "python3"
  },
  "language_info": {
   "codemirror_mode": {
    "name": "ipython",
    "version": 3
   },
   "file_extension": ".py",
   "mimetype": "text/x-python",
   "name": "python",
   "nbconvert_exporter": "python",
   "pygments_lexer": "ipython3",
   "version": "3.7.3"
  }
 },
 "nbformat": 4,
 "nbformat_minor": 2
}
