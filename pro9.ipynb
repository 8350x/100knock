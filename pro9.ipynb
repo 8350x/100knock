{
 "cells": [
  {
   "cell_type": "code",
   "execution_count": 36,
   "metadata": {},
   "outputs": [
    {
     "name": "stdout",
     "output_type": "stream",
     "text": [
      "I cl'uondt bilveee that I culod atclualy uaesdtnrnd what I was rdinaeg : the pnehanomel pweor of the hamun mind .\n"
     ]
    }
   ],
   "source": [
    "import re\n",
    "import random\n",
    "\n",
    "def pro9(src):\n",
    "    \n",
    "    src_list=re.split('[ ]',src)\n",
    "    dst_list=[]\n",
    "    dst2_list=[]\n",
    "    i_list=[]\n",
    "    \n",
    "    \n",
    "    for i in src_list:\n",
    "        if len(i) != 0:\n",
    "            dst_list.append(i)\n",
    "        \n",
    "    for i in dst_list:\n",
    "        \n",
    "        if len(i)>4:\n",
    "            i_list=list(i)\n",
    "            \n",
    "            top=i_list.pop(0)\n",
    "            last=i_list.pop(-1)\n",
    "            \n",
    "            random.shuffle(i_list)\n",
    "            \n",
    "            i_list.insert(0,top)\n",
    "            i_list.append(last)\n",
    "            \n",
    "            i=\"\".join(i_list)\n",
    "            \n",
    "            dst2_list.append(i)\n",
    "        \n",
    "        else:\n",
    "            dst2_list.append(i)\n",
    "            \n",
    "    dst2=\" \".join(dst2_list)\n",
    "    \n",
    "    print(dst2)\n",
    "    \n",
    "    \n",
    " \n",
    "\n",
    "pro9(\"I couldn't believe that I could actually understand what I was reading : the phenomenal power of the human mind .\")\n",
    "    \n",
    "    "
   ]
  }
 ],
 "metadata": {
  "kernelspec": {
   "display_name": "Python 3",
   "language": "python",
   "name": "python3"
  },
  "language_info": {
   "codemirror_mode": {
    "name": "ipython",
    "version": 3
   },
   "file_extension": ".py",
   "mimetype": "text/x-python",
   "name": "python",
   "nbconvert_exporter": "python",
   "pygments_lexer": "ipython3",
   "version": "3.7.3"
  }
 },
 "nbformat": 4,
 "nbformat_minor": 2
}
